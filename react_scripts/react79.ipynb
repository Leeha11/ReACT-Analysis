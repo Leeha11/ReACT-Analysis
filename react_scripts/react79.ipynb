{
 "cells": [
  {
   "cell_type": "code",
   "execution_count": 3,
   "id": "26c7f847-3c2a-4af3-bb0f-bef719fc1021",
   "metadata": {},
   "outputs": [],
   "source": [
    "import requests\n",
    "import ollama\n",
    "\n",
    "'''\n",
    "ReACT_79: Help potential contributors evaluate the project fit.\n",
    "'''\n",
    "\n",
    "def compute_react79(full_name):\n",
    "    contents_url = f'https://api.github.com/repos/{full_name}/contents/'\n",
    "\n",
    "    response = requests.get(contents_url)\n",
    "    if response.status_code != 200:\n",
    "        return 0\n",
    "\n",
    "    repo_contents = {file[\"name\"]: file for file in response.json()}\n",
    "    has_readme = \"README.md\" in repo_contents\n",
    "    has_contributing = \"CONTRIBUTING.md\" in repo_contents\n",
    "    has_docs = \"docs\" in repo_contents\n",
    "\n",
    "    has_contributor_info = False\n",
    "    if has_readme:\n",
    "        readme_url = repo_contents[\"README.md\"][\"download_url\"]\n",
    "        response = requests.get(readme_url)\n",
    "        if response.status_code == 200:\n",
    "            readme_content = response.text\n",
    "            query = f\"Does the following README.md help potential contributors evaluate if this project is a good fit for them?\\n\\n{readme_content}\\n\\nRespond with either a YES or a NO and nothing else!\"\n",
    "            ollama_response = ollama.chat(model=\"llama2:7b\", messages=[{\"role\": \"user\", \"content\": query}])\n",
    "            has_contributor_info = \"YES\" in ollama_response[\"message\"][\"content\"]\n",
    "\n",
    "    return 1 if any([has_readme, has_contributing, has_docs, has_contributor_info]) else 0\n",
    "\n",
    "\n"
   ]
  },
  {
   "cell_type": "code",
   "execution_count": null,
   "id": "d748d2a2-d234-4172-b0ef-4ba50667ae9b",
   "metadata": {},
   "outputs": [],
   "source": []
  }
 ],
 "metadata": {
  "kernelspec": {
   "display_name": "Python 3 (ipykernel)",
   "language": "python",
   "name": "python3"
  },
  "language_info": {
   "codemirror_mode": {
    "name": "ipython",
    "version": 3
   },
   "file_extension": ".py",
   "mimetype": "text/x-python",
   "name": "python",
   "nbconvert_exporter": "python",
   "pygments_lexer": "ipython3",
   "version": "3.11.7"
  }
 },
 "nbformat": 4,
 "nbformat_minor": 5
}
