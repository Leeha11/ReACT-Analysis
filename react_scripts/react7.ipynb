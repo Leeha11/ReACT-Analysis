{
 "cells": [
  {
   "cell_type": "code",
   "execution_count": 3,
   "id": "23669e4d-d978-4456-91dc-cb09d8ce6ccb",
   "metadata": {},
   "outputs": [],
   "source": [
    "import requests\n",
    "\n",
    "def compute_react7(full_name):\n",
    "    #Maintain well-designed code\n",
    "    repo_url = f'https://api.github.com/repos/{full_name}/contents/'\n",
    "    \n",
    "   \n",
    "    linting_files = {\n",
    "        \".pylintrc\", \".clang-format\", \".eslintrc.json\", \".prettierrc\", \".stylelintrc\",\n",
    "        \".editorconfig\", \"flake8\", \"pylintrc\", \"checkstyle.xml\", \".rubocop.yml\"\n",
    "    }\n",
    "\n",
    "   \n",
    "    response = requests.get(repo_url)\n",
    "\n",
    "    if response.status_code != 200:\n",
    "        return 0  \n",
    "\n",
    "    repo_contents = response.json()\n",
    "\n",
    "   \n",
    "    found_files_count = sum(1 for file in repo_contents if file['name'] in linting_files)\n",
    "\n",
    "    return found_files_count  \n"
   ]
  },
  {
   "cell_type": "code",
   "execution_count": null,
   "id": "eea196d8-433e-4d12-bffd-7e594dc48344",
   "metadata": {},
   "outputs": [],
   "source": []
  }
 ],
 "metadata": {
  "kernelspec": {
   "display_name": "Python 3 (ipykernel)",
   "language": "python",
   "name": "python3"
  },
  "language_info": {
   "codemirror_mode": {
    "name": "ipython",
    "version": 3
   },
   "file_extension": ".py",
   "mimetype": "text/x-python",
   "name": "python",
   "nbconvert_exporter": "python",
   "pygments_lexer": "ipython3",
   "version": "3.11.7"
  }
 },
 "nbformat": 4,
 "nbformat_minor": 5
}
