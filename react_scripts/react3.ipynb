{
 "cells": [
  {
   "cell_type": "code",
   "execution_count": 6,
   "id": "10b22f95-b563-41d5-a185-1d9d6d4c97ba",
   "metadata": {},
   "outputs": [],
   "source": [
    "import requests\n",
    "# Common programming languages\n",
    "\n",
    "\n",
    "def compute_react3(full_name):\n",
    "    repo_url = f'https://api.github.com/repos/{full_name}/languages'\n",
    "    \n",
    "    \n",
    "    common_languages = {\n",
    "        \"Python\", \"Java\", \"JavaScript\", \"TypeScript\", \"C\", \"C++\", \"C#\", \n",
    "        \"Go\", \"Rust\", \"Swift\", \"Ruby\", \"Kotlin\", \"PHP\", \"R\", \"Perl\"\n",
    "    }\n",
    "\n",
    "   \n",
    "    response = requests.get(repo_url)\n",
    "\n",
    "    if response.status_code != 200:\n",
    "        return 0  \n",
    "\n",
    "    languages = response.json()\n",
    "\n",
    "\n",
    "    return sum(1 for lang in languages.keys() if lang in common_languages)\n"
   ]
  },
  {
   "cell_type": "code",
   "execution_count": null,
   "id": "716e82c0-4a3f-49d4-a899-7dd321e4782d",
   "metadata": {},
   "outputs": [],
   "source": []
  }
 ],
 "metadata": {
  "kernelspec": {
   "display_name": "Python 3 (ipykernel)",
   "language": "python",
   "name": "python3"
  },
  "language_info": {
   "codemirror_mode": {
    "name": "ipython",
    "version": 3
   },
   "file_extension": ".py",
   "mimetype": "text/x-python",
   "name": "python",
   "nbconvert_exporter": "python",
   "pygments_lexer": "ipython3",
   "version": "3.11.7"
  }
 },
 "nbformat": 4,
 "nbformat_minor": 5
}
