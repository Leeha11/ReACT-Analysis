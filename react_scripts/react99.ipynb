{
 "cells": [
  {
   "cell_type": "code",
   "execution_count": 4,
   "id": "3cd389c6-7f37-4e32-ad75-56be69ba9e2d",
   "metadata": {},
   "outputs": [],
   "source": [
    "import requests\n",
    "# Keep the issue list clean and triaged\n",
    "\n",
    "\n",
    "def compute_react99(full_name):\n",
    "    issues_url = f'https://api.github.com/repos/{full_name}/issues?state=all&per_page=100'\n",
    "    \n",
    "    response = requests.get(issues_url)\n",
    "    if response.status_code != 200:\n",
    "        return 0\n",
    "\n",
    "    issues = response.json()\n",
    "    open_issues = sum(1 for issue in issues if issue[\"state\"] == \"open\")\n",
    "    closed_issues = sum(1 for issue in issues if issue[\"state\"] == \"closed\")\n",
    "    stale_issues = sum(1 for issue in issues if \"stale\" in [label[\"name\"].lower() for label in issue.get(\"labels\", [])])\n",
    "\n",
    "    return 1 if closed_issues > open_issues and stale_issues == 0 else 0\n",
    "\n",
    "\n"
   ]
  },
  {
   "cell_type": "code",
   "execution_count": null,
   "id": "d5d95e07-7c2e-45c7-91a2-c12f35391fea",
   "metadata": {},
   "outputs": [],
   "source": []
  }
 ],
 "metadata": {
  "kernelspec": {
   "display_name": "Python 3 (ipykernel)",
   "language": "python",
   "name": "python3"
  },
  "language_info": {
   "codemirror_mode": {
    "name": "ipython",
    "version": 3
   },
   "file_extension": ".py",
   "mimetype": "text/x-python",
   "name": "python",
   "nbconvert_exporter": "python",
   "pygments_lexer": "ipython3",
   "version": "3.11.7"
  }
 },
 "nbformat": 4,
 "nbformat_minor": 5
}
