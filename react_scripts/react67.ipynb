{
 "cells": [
  {
   "cell_type": "code",
   "execution_count": 3,
   "id": "3aab0334-a0e1-4da5-976a-d6a597198ccd",
   "metadata": {},
   "outputs": [],
   "source": [
    "import requests\n",
    "import ollama\n",
    "\n",
    "'''\n",
    "ReACT_67: Clearly communicate unresolved issues.\n",
    "'''\n",
    "\n",
    "def compute_react67(full_name):\n",
    "    \n",
    "    issues_url = f'https://api.github.com/repos/{full_name}/issues?state=open&labels=needs%20help,bug'\n",
    "    \n",
    " \n",
    "    response = requests.get(issues_url)\n",
    "    if response.status_code != 200:\n",
    "        return 0  \n",
    "        \n",
    "    issues = response.json()\n",
    "    if not issues:\n",
    "        return 0 \n",
    "\n",
    "\n",
    "    issue_descriptions = [issue[\"title\"] + \"\\n\" + issue[\"body\"] for issue in issues[:3] if \"body\" in issue]\n",
    "\n",
    "    if not issue_descriptions:\n",
    "        return 0  \n",
    "\n",
    "\n",
    "    query = f\"Analyze the following GitHub issue descriptions and determine if they clearly communicate the unresolved problem:\\n\\n{issue_descriptions}\\n\\nRespond with either a YES or a NO and nothing else!\"\n",
    "    ollama_response = ollama.chat(model=\"llama2:7b\", messages=[{\"role\": \"user\", \"content\": query}])\n",
    "\n",
    "  \n",
    "    return 1 if \"YES\" in ollama_response[\"message\"][\"content\"] else 0\n",
    "\n",
    "\n"
   ]
  },
  {
   "cell_type": "code",
   "execution_count": null,
   "id": "9cffefca-c6f8-4214-a94f-bb727b7420b3",
   "metadata": {},
   "outputs": [],
   "source": []
  }
 ],
 "metadata": {
  "kernelspec": {
   "display_name": "Python 3 (ipykernel)",
   "language": "python",
   "name": "python3"
  },
  "language_info": {
   "codemirror_mode": {
    "name": "ipython",
    "version": 3
   },
   "file_extension": ".py",
   "mimetype": "text/x-python",
   "name": "python",
   "nbconvert_exporter": "python",
   "pygments_lexer": "ipython3",
   "version": "3.11.7"
  }
 },
 "nbformat": 4,
 "nbformat_minor": 5
}
