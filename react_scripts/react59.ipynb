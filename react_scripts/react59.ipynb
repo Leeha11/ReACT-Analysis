{
 "cells": [
  {
   "cell_type": "code",
   "execution_count": 5,
   "id": "460abd5d-25f5-4f81-96ee-60b1d39a8aa5",
   "metadata": {},
   "outputs": [],
   "source": [
    "import requests\n",
    "import ollama\n",
    "\n",
    "#Enhance the project's learning opportunities\n",
    "\n",
    "def compute_react59(full_name):\n",
    "    contents_url = f'https://api.github.com/repos/{full_name}/contents/'\n",
    "\n",
    "   \n",
    "    response = requests.get(contents_url)\n",
    "    if response.status_code != 200:\n",
    "        return 0  \n",
    "\n",
    "    repo_contents = {file[\"name\"]: file for file in response.json()}\n",
    "    has_readme = \"README.md\" in repo_contents\n",
    "    has_docs = \"docs\" in repo_contents\n",
    "    has_tutorials_or_examples = \"tutorials\" in repo_contents or \"examples\" in repo_contents\n",
    "\n",
    "    has_educational_content = False\n",
    "    if has_readme:\n",
    "        readme_url = repo_contents[\"README.md\"][\"download_url\"]\n",
    "        response = requests.get(readme_url)\n",
    "        if response.status_code == 200:\n",
    "            readme_content = response.text\n",
    "            query = f\"Does the following README.md provide clear educational value, tutorials, or guidance for learners?\\n\\n{readme_content}\\n\\nRespond with either a YES or a NO and nothing else!\"\n",
    "            ollama_response = ollama.chat(model=\"llama2:7b\", messages=[{\"role\": \"user\", \"content\": query}])\n",
    "            has_educational_content = \"YES\" in ollama_response[\"message\"][\"content\"]\n",
    "\n",
    "   \n",
    "    return 1 if any([has_readme, has_docs, has_tutorials_or_examples, has_educational_content]) else 0\n",
    "\n"
   ]
  },
  {
   "cell_type": "code",
   "execution_count": null,
   "id": "4ffdd996-3478-41be-866a-8e02f228d12c",
   "metadata": {},
   "outputs": [],
   "source": []
  }
 ],
 "metadata": {
  "kernelspec": {
   "display_name": "Python 3 (ipykernel)",
   "language": "python",
   "name": "python3"
  },
  "language_info": {
   "codemirror_mode": {
    "name": "ipython",
    "version": 3
   },
   "file_extension": ".py",
   "mimetype": "text/x-python",
   "name": "python",
   "nbconvert_exporter": "python",
   "pygments_lexer": "ipython3",
   "version": "3.11.7"
  }
 },
 "nbformat": 4,
 "nbformat_minor": 5
}
