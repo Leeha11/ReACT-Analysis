{
 "cells": [
  {
   "cell_type": "code",
   "execution_count": 4,
   "id": "52dd7d41-b71c-4a44-969e-6dad1f19ae35",
   "metadata": {},
   "outputs": [
    {
     "name": "stdout",
     "output_type": "stream",
     "text": [
      "0\n",
      "0\n"
     ]
    }
   ],
   "source": [
    "import requests\n",
    "#Tag tasks based on their complexity level\n",
    "\n",
    "def compute_react23(full_name):\n",
    "\n",
    "    issues_url = f'https://api.github.com/repos/{full_name}/issues?state=open'\n",
    "\n",
    "   \n",
    "    response = requests.get(issues_url)\n",
    "    if response.status_code != 200:\n",
    "        return 0 \n",
    "\n",
    "    issues = response.json()\n",
    "\n",
    "   \n",
    "    complexity_labels = {\"beginner-friendly\", \"easy\", \"complex\", \"hard\"}\n",
    "\n",
    "   \n",
    "    has_complexity_tag = any(\n",
    "        \"labels\" in issue and any(label[\"name\"].lower() in complexity_labels for label in issue[\"labels\"])\n",
    "        for issue in issues\n",
    "    )\n",
    "\n",
    "   \n",
    "    return 1 if has_complexity_tag else 0\n",
    "\n",
    "\n"
   ]
  },
  {
   "cell_type": "code",
   "execution_count": null,
   "id": "4ed33512-40a5-4a5a-8183-4120f31dde02",
   "metadata": {},
   "outputs": [],
   "source": []
  }
 ],
 "metadata": {
  "kernelspec": {
   "display_name": "Python 3 (ipykernel)",
   "language": "python",
   "name": "python3"
  },
  "language_info": {
   "codemirror_mode": {
    "name": "ipython",
    "version": 3
   },
   "file_extension": ".py",
   "mimetype": "text/x-python",
   "name": "python",
   "nbconvert_exporter": "python",
   "pygments_lexer": "ipython3",
   "version": "3.11.7"
  }
 },
 "nbformat": 4,
 "nbformat_minor": 5
}
