{
 "cells": [
  {
   "cell_type": "code",
   "execution_count": 4,
   "id": "637c1b1e-cb32-438f-aac5-60ee2c431fd2",
   "metadata": {},
   "outputs": [],
   "source": [
    "import requests\n",
    "import ollama\n",
    "\n",
    "#Utilize an editing tool that supports compiling and executing code\n",
    "\n",
    "def compute_react43(full_name):\n",
    "    \n",
    "    contents_url = f'https://api.github.com/repos/{full_name}/contents/'\n",
    "\n",
    "   \n",
    "    response = requests.get(contents_url)\n",
    "    if response.status_code != 200:\n",
    "        return 0  \n",
    "\n",
    "    repo_contents = {file[\"name\"]: file for file in response.json()}\n",
    "    has_codespaces_config = \".devcontainer\" in repo_contents or \"codespace.json\" in repo_contents\n",
    "\n",
    "    \n",
    "    documentation_files = [\"README.md\", \"docs/\"]\n",
    "    mentions_online_IDE = False\n",
    "\n",
    "    for doc in documentation_files:\n",
    "        if doc in repo_contents:\n",
    "            doc_url = repo_contents[doc][\"download_url\"]\n",
    "            response = requests.get(doc_url)\n",
    "            if response.status_code == 200:\n",
    "                doc_content = response.text\n",
    "                query = f\"Does the following documentation mention CodeSandbox, Replit, or other online coding tools?\\n\\n{doc_content}\\n\\nRespond with either a YES or a NO and nothing else!\"\n",
    "                ollama_response = ollama.chat(model=\"llama2:7b\", messages=[{\"role\": \"user\", \"content\": query}])\n",
    "                mentions_online_IDE = \"YES\" in ollama_response[\"message\"][\"content\"]\n",
    "                break  \n",
    "\n",
    "   \n",
    "    return sum([has_codespaces_config, mentions_online_IDE])\n",
    "\n"
   ]
  },
  {
   "cell_type": "code",
   "execution_count": null,
   "id": "236accb8-159a-4ac0-8788-5591a526e569",
   "metadata": {},
   "outputs": [],
   "source": []
  }
 ],
 "metadata": {
  "kernelspec": {
   "display_name": "Python 3 (ipykernel)",
   "language": "python",
   "name": "python3"
  },
  "language_info": {
   "codemirror_mode": {
    "name": "ipython",
    "version": 3
   },
   "file_extension": ".py",
   "mimetype": "text/x-python",
   "name": "python",
   "nbconvert_exporter": "python",
   "pygments_lexer": "ipython3",
   "version": "3.11.7"
  }
 },
 "nbformat": 4,
 "nbformat_minor": 5
}
