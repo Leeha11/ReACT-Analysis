{
 "cells": [
  {
   "cell_type": "code",
   "execution_count": 3,
   "id": "b7ddda9e-03ca-400f-9798-e492fef7275a",
   "metadata": {},
   "outputs": [],
   "source": [
    "import requests\n",
    "import ollama\n",
    "import base64\n",
    "#Offer coding guidelines\n",
    "\n",
    "def compute_react31(full_name):\n",
    "\tapi_url_readme = f'https://api.github.com/repos/{full_name}/readme'\n",
    "\tapi_url_contributing = f'https://api.github.com/repos/{full_name}/contents/CONTRIBUTING.md'\n",
    "\n",
    "\tresponse_readme = requests.get(api_url_readme).json()\n",
    "\tresponse_contributing = requests.get(api_url_contributing).json()\n",
    "\n",
    "\treadme_content = base64.b64decode(response_readme.get(\"content\", \"\")).decode(\"utf-8\") if \"content\" in response_readme else \"\"\n",
    "\tcontributing_content = base64.b64decode(response_contributing.get(\"content\", \"\")).decode(\"utf-8\") if \"content\" in response_contributing else \"\"\n",
    "\n",
    "\tdocumentation = f\"README:\\n{readme_content}\\n\\nCONTRIBUTING.md:\\n{contributing_content}\"\n",
    "\n",
    "\tquery = f\"Here is a project's documentation:\\n\\n{documentation}\\n\\nDoes this documentation provide clear guidance for potential contributors? Respond with either a YES or a NO and nothing else!\"\n",
    "\tresponse = ollama.chat(model=\"llama2:7b\", messages=[{\"role\": \"user\", \"content\": query}])\n",
    "\tprint(response)\n",
    "\n",
    "\treturn 1 if \"YES\" in response else 0\n",
    "\n"
   ]
  },
  {
   "cell_type": "code",
   "execution_count": null,
   "id": "d910b0a1-f052-4f96-9ab2-636f2a86a28e",
   "metadata": {},
   "outputs": [],
   "source": []
  }
 ],
 "metadata": {
  "kernelspec": {
   "display_name": "Python 3 (ipykernel)",
   "language": "python",
   "name": "python3"
  },
  "language_info": {
   "codemirror_mode": {
    "name": "ipython",
    "version": 3
   },
   "file_extension": ".py",
   "mimetype": "text/x-python",
   "name": "python",
   "nbconvert_exporter": "python",
   "pygments_lexer": "ipython3",
   "version": "3.11.7"
  }
 },
 "nbformat": 4,
 "nbformat_minor": 5
}
